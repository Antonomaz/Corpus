{
 "cells": [
  {
   "cell_type": "markdown",
   "metadata": {},
   "source": [
    "# Obtenir la liste des pdf manquants à partir du tableur \"Avancée_travail_corpus\"\n",
    "* Au préalable, exporter une version .tsv du tableur \"Avancée_travail_corpus\"(séparateur : tabulations)\n",
    "* Ce script utilise le nom des colonnes pour explorer le tableur : il faudra l'adapter si ils ont été modifiés."
   ]
  },
  {
   "cell_type": "code",
   "execution_count": 141,
   "metadata": {},
   "outputs": [],
   "source": [
    "import os\n",
    "import re\n",
    "import glob\n",
    "import pandas as pd"
   ]
  },
  {
   "cell_type": "code",
   "execution_count": 142,
   "metadata": {},
   "outputs": [],
   "source": [
    "def search_missing_pdf(path_tableur, regex=\"nan\", classe_I=True):\n",
    "#Pour former la liste des pdf qui ne figurent dans aucune des trois colonnes : pdf gall, gbooks ou maz.\n",
    "#regex=valeur dans les colonnes du tableur spécifiant une entrée vide.\n",
    "#classe_I : Si True, le comptage exclue les titres pour lesquels la classe est \"I\" (inclassable).\n",
    "#Mettre \"False\" pour obtenir la liste des titres manquants sans distinction de classe.\n",
    "#Les résultats sont enregistrés dans un fichier .txt au même niveau que le script.\n",
    "    df=pd.read_csv(path_tableur, sep='\\t', header=0)\n",
    "    liste_manquante=[]\n",
    "    if classe_I==False:\n",
    "        for i in df.index:\n",
    "            p=re.compile(regex)\n",
    "            m=p.match(str(df.loc[i,\"PDF_GALLICA\"]))\n",
    "            if m:\n",
    "                m=p.match(str(df.loc[i,\"PDF_GBOOKS\"]))\n",
    "                if m:\n",
    "                    m=p.match(str(df.loc[i,\"PDF_MAZ\"]))\n",
    "                    if m:\n",
    "                        ligne_manquante=str(df.loc[i,\"id\"])+\"\\t\"+str(df.loc[i,\"Titre du document\"])+\"\\n\"\n",
    "                        liste_manquante.append(ligne_manquante)                 \n",
    "    if classe_I==True:\n",
    "        liste_manquante=[]\n",
    "        for i in df.index:\n",
    "            p=re.compile(regex)\n",
    "            m=p.match(str(df.loc[i,\"PDF_GALLICA\"]))\n",
    "            if m:\n",
    "                m=p.match(str(df.loc[i,\"PDF_GBOOKS\"]))\n",
    "                if m:\n",
    "                    m=p.match(str(df.loc[i,\"PDF_MAZ\"]))\n",
    "                    if m:\n",
    "                        p=re.compile(\"N|O\")\n",
    "                        m=p.match(str(df.loc[i,\"Classés / Non-classés (sous corpus)\"]))\n",
    "                        if m:\n",
    "                            ligne_manquante=str(df.loc[i,\"id\"])+\"\\t\"+str(df.loc[i,\"Titre du document\"])+\"\\n\"\n",
    "                            liste_manquante.append(ligne_manquante)  \n",
    "    print(\"Nombre de titres manquants : \"+str(len(liste_manquante)))\n",
    "    with open(\"missing_pdf_titles.txt\", \"w\", encoding=\"utf-8\") as f:\n",
    "        for l in liste_manquante:\n",
    "            f.write(l)\n",
    "    print(\"Le fichier .txt avec la liste des titres manquants a été enregistré au même niveau que ce script.\")"
   ]
  },
  {
   "cell_type": "markdown",
   "metadata": {},
   "source": [
    "# Exemple d'utilisation :"
   ]
  },
  {
   "cell_type": "code",
   "execution_count": 143,
   "metadata": {},
   "outputs": [
    {
     "name": "stdout",
     "output_type": "stream",
     "text": [
      "Nombre de titres manquants : 2366\n",
      "Le fichier .txt avec la liste des titres manquants a été enregistré au même niveau que ce script.\n"
     ]
    }
   ],
   "source": [
    "search_missing_pdf(\"Avancée_travail_corpus - Corpus_complet.tsv\", regex=\"nan\", classe_I=True)"
   ]
  },
  {
   "cell_type": "code",
   "execution_count": null,
   "metadata": {},
   "outputs": [],
   "source": []
  }
 ],
 "metadata": {
  "kernelspec": {
   "display_name": "Python 3",
   "language": "python",
   "name": "python3"
  },
  "language_info": {
   "codemirror_mode": {
    "name": "ipython",
    "version": 3
   },
   "file_extension": ".py",
   "mimetype": "text/x-python",
   "name": "python",
   "nbconvert_exporter": "python",
   "pygments_lexer": "ipython3",
   "version": "3.8.5"
  }
 },
 "nbformat": 4,
 "nbformat_minor": 4
}
