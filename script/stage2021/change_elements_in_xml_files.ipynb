{
 "cells": [
  {
   "cell_type": "code",
   "execution_count": 1,
   "metadata": {},
   "outputs": [],
   "source": [
    "from bs4 import BeautifulSoup\n",
    "import glob\n",
    "import os\n",
    "import re\n",
    "import lxml"
   ]
  },
  {
   "cell_type": "markdown",
   "metadata": {},
   "source": [
    "## Aligner les titles sur la liste_moreau.txt avec lxml"
   ]
  },
  {
   "cell_type": "code",
   "execution_count": 7,
   "metadata": {},
   "outputs": [
    {
     "name": "stdout",
     "output_type": "stream",
     "text": [
      "M573_GALL.xml\n",
      "573\n",
      "ok\n",
      "<Element {http://www.tei-c.org/ns/1.0}title at 0x1d47fb89a80>\n",
      "<Element {http://www.tei-c.org/ns/1.0}title at 0x1d47fb89d00>\n",
      "output.xml\n",
      "573\n",
      "ok\n",
      "<Element {http://www.tei-c.org/ns/1.0}title at 0x1d47fb89bc0>\n",
      "<Element {http://www.tei-c.org/ns/1.0}title at 0x1d47fb89d40>\n"
     ]
    }
   ],
   "source": [
    "try:\n",
    "    os.mkdir('output_fichiers_modifiés')\n",
    "except:\n",
    "    print('Le dossier \"output_fichiers_modifiés\" existe déjà.')\n",
    "\n",
    "ns = {'tei': 'http://www.tei-c.org/ns/1.0'}\n",
    "for filepath in glob.iglob('*.xml'):\n",
    "    print(filepath)\n",
    "    tree = lxml.etree.parse(filepath)\n",
    "    id_moreau_xml= tree.xpath(\"//tei:note[@type='Moreau_identifier']/text()\", namespaces=ns)[0]\n",
    "    print(id_moreau_xml)\n",
    "    #Récupérer les métadonnées présentes dans le excel Documents_all\n",
    "    with open(\"liste_moreau.txt\", \"r\", encoding='utf-8')as f:\n",
    "        data_moreau=f.readlines()\n",
    "    #Aligner les métadonnées entre le xml et Documents_All si l'id coincide\n",
    "    for d in data_moreau:\n",
    "        idMoreau_data, titre_data, date_data, lieu_data, pages_data=re.split(\"\\t\",d)\n",
    "        if str(id_moreau_xml)==str(idMoreau_data):\n",
    "            print(\"ok\")\n",
    "            for title in tree.xpath(\"//tei:teiHeader//tei:title[@source='Moreau']\", namespaces=ns):\n",
    "                    print(title)\n",
    "                    title.text=titre_data\n",
    "    tree.write('output_fichiers_modifiés/%s' %filepath, pretty_print=True, xml_declaration=True,   encoding=\"utf-8\")\n",
    "\n",
    "        "
   ]
  },
  {
   "cell_type": "markdown",
   "metadata": {},
   "source": [
    "## Remplir les métadonnées 'settlement' en fonction de la bibliothèque"
   ]
  },
  {
   "cell_type": "code",
   "execution_count": 12,
   "metadata": {},
   "outputs": [
    {
     "name": "stdout",
     "output_type": "stream",
     "text": [
      "Le dossier \"output_fichiers_modifiés_settlement\" existe déjà.\n",
      "M573_GALL.xml\n"
     ]
    }
   ],
   "source": [
    "#Création du dossier de sortie\n",
    "try:\n",
    "    os.mkdir('output_fichiers_modifiés_settlement')\n",
    "except:\n",
    "    print('Le dossier \"output_fichiers_modifiés_settlement\" existe déjà.')\n",
    "\n",
    "#Création des regex en fonction desquelles seront remplies les métadonnées \"settlement\"\n",
    "regexParis=re.compile(\"Bibliothèque nationale de France|Bibliothèque Mazarine\",re.IGNORECASE)\n",
    "regexLyon=re.compile(\"Bibliothèque municipale de Lyon|Bibliothèque municipale de Lyon, bibliothèque jésuite des Fontaines|Bibliothèque municipale de Lyon (Bibliothèque jésuite des Fontaines)|Bibliothèque municipale de Lyon, Bibliothèque jésuite des Fontaines\",re.IGNORECASE)\n",
    "regexBrit=re.compile(\"The British Library\",re.IGNORECASE)\n",
    "regexBav=re.compile(\"Bibliothèque de l'État de Bavière\",re.IGNORECASE)\n",
    "regexAut=re.compile(\"Bibliothèque nationale d'Autriche\",re.IGNORECASE)\n",
    "regexFlo=re.compile(\"Bibliothèque nationale centrale de Florence\",re.IGNORECASE)\n",
    "\n",
    "#Ecriture des métadonnées en fonction de la regex pour chaque fichier xml\n",
    "ns = {'tei': 'http://www.tei-c.org/ns/1.0'}\n",
    "for filepath in glob.iglob('*\\*.xml'):\n",
    "    print(filepath)\n",
    "    tree = lxml.etree.parse(filepath)\n",
    "    #id_moreau_xml= tree.xpath(\"//tei:note[@type='Moreau_identifier']/text()\", namespaces=ns)[0]\n",
    "    institution=tree.xpath(\"//tei:institution/text()\", namespaces=ns)[0]\n",
    "    settlement=tree.xpath(\"//tei:settlement\", namespaces=ns)[0]\n",
    "    mParis = regexParis.search(institution)\n",
    "    mLyon = regexLyon.search(institution)\n",
    "    mBrit=regexBrit.search(institution)\n",
    "    mBav=regexBav.search(institution)\n",
    "    mAut=regexAut.search(institution)\n",
    "    mFlo=regexFlo.search(institution)\n",
    "    if mParis:\n",
    "        settlement.text=\"Paris\"\n",
    "    if mLyon:\n",
    "        settlement.text=\"Lyon\"\n",
    "    if mBrit:\n",
    "        settlement.text=\"Londres\"\n",
    "    if mBav:\n",
    "        settlement.text=\"Munich\"\n",
    "    if mAut:\n",
    "        settlement.text=\"Vienne\"\n",
    "    if mFlo:\n",
    "        settlement.text=\"Florence\"\n",
    "    #Ecriture du fichier de sortie\n",
    "    tree.write('output_fichiers_modifiés_settlement/%s' %filepath, pretty_print=True, xml_declaration=True,   encoding=\"utf-8\")"
   ]
  },
  {
   "cell_type": "code",
   "execution_count": null,
   "metadata": {},
   "outputs": [],
   "source": []
  }
 ],
 "metadata": {
  "kernelspec": {
   "display_name": "Python 3",
   "language": "python",
   "name": "python3"
  },
  "language_info": {
   "codemirror_mode": {
    "name": "ipython",
    "version": 3
   },
   "file_extension": ".py",
   "mimetype": "text/x-python",
   "name": "python",
   "nbconvert_exporter": "python",
   "pygments_lexer": "ipython3",
   "version": "3.8.5"
  }
 },
 "nbformat": 4,
 "nbformat_minor": 4
}
